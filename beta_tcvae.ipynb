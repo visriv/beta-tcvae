{
 "cells": [
  {
   "cell_type": "markdown",
   "metadata": {
    "id": "9GMS7zfI3-Ip"
   },
   "source": [
    "### setup codebase and data"
   ]
  },
  {
   "cell_type": "code",
   "execution_count": null,
   "metadata": {
    "colab": {
     "base_uri": "https://localhost:8080/"
    },
    "id": "jDXH-6gOorTK",
    "outputId": "ee087f9c-7e3d-4afa-9856-38df110c3633"
   },
   "outputs": [],
   "source": [
    "!git clone https://github.com/visriv/beta-tcvae\n",
    "%cd beta-tcvae"
   ]
  },
  {
   "cell_type": "code",
   "execution_count": null,
   "metadata": {
    "id": "_8zz6T7lu5cb"
   },
   "outputs": [],
   "source": [
    "!git status\n",
    "# !git add plot_latent_vs_true.py\n",
    "# # !git config --global user.email \"vishalsrivastava177@gmail.com\"\n",
    "# # !git config --global user.name \"Vishal Srivastava\"\n",
    "# !git commit -m \"add MNIST plots\"\n",
    "# !git push"
   ]
  },
  {
   "cell_type": "code",
   "execution_count": null,
   "metadata": {
    "colab": {
     "base_uri": "https://localhost:8080/"
    },
    "id": "tjfU0fQqo3bo",
    "outputId": "a7bf25e9-1ff0-40ef-c586-21a7d23bcf27"
   },
   "outputs": [],
   "source": [
    "!mkdir data\n",
    "%cd data\n",
    "!git clone https://github.com/deepmind/dsprites-dataset.git\n",
    "%cd dsprites-dataset\n",
    "!rm -rf .git* *.md LICENSE *.ipynb *.gif *.hdf5\n"
   ]
  },
  {
   "cell_type": "code",
   "execution_count": null,
   "metadata": {
    "colab": {
     "base_uri": "https://localhost:8080/"
    },
    "id": "uWwv1A4kssSP",
    "outputId": "1f066936-479b-4fcd-a72c-1d21b0a3765a"
   },
   "outputs": [],
   "source": [
    "%cd ../.."
   ]
  },
  {
   "cell_type": "code",
   "execution_count": 3,
   "metadata": {
    "colab": {
     "base_uri": "https://localhost:8080/"
    },
    "id": "A6X8h4EmH0x9",
    "outputId": "e0b9f093-9c82-4d4c-ace4-59ce863ef983"
   },
   "outputs": [
    {
     "name": "stdout",
     "output_type": "stream",
     "text": [
      "/Users/visriv/Documents/Git/beta-tcvae\n"
     ]
    }
   ],
   "source": [
    "%cd beta-tcvae\n",
    "# %cd content"
   ]
  },
  {
   "cell_type": "code",
   "execution_count": null,
   "metadata": {
    "colab": {
     "base_uri": "https://localhost:8080/"
    },
    "id": "JTxwpzPrq6V0",
    "outputId": "9a0bd7bb-f7d0-422c-e7bf-c129ea7867f9"
   },
   "outputs": [],
   "source": [
    "!pip3 install brewer2mpl\n",
    "!pip3 install visdom\n",
    "!pip3 install matplotlib\n",
    "!pip3 install tqdm"
   ]
  },
  {
   "cell_type": "code",
   "execution_count": null,
   "metadata": {},
   "outputs": [],
   "source": []
  },
  {
   "cell_type": "markdown",
   "metadata": {
    "id": "EbC20Ffe365G"
   },
   "source": [
    "#### Import libraries"
   ]
  },
  {
   "cell_type": "code",
   "execution_count": 34,
   "metadata": {
    "colab": {
     "base_uri": "https://localhost:8080/",
     "height": 383
    },
    "id": "lBHYNFbh356t",
    "outputId": "0f56f05d-b9b6-4df0-c6b0-ea31e1aacfa1"
   },
   "outputs": [
    {
     "data": {
      "text/plain": [
       "<module 'lib.datasets' from '/Users/visriv/Documents/Git/beta-tcvae/lib/datasets.py'>"
      ]
     },
     "execution_count": 34,
     "metadata": {},
     "output_type": "execute_result"
    }
   ],
   "source": [
    "import os\n",
    "import time\n",
    "import math\n",
    "from numbers import Number\n",
    "import argparse\n",
    "\n",
    "import torch\n",
    "import torch.nn as nn\n",
    "import torch.optim as optim\n",
    "from torch.autograd import Variable\n",
    "from torch.utils.data import DataLoader\n",
    "from torch.autograd import Variable\n",
    "from torchvision import datasets\n",
    "import visdom\n",
    "import matplotlib\n",
    "matplotlib.use('Agg')\n",
    "import matplotlib.pyplot as plt\n",
    "import matplotlib.gridspec as gridspec\n",
    "import brewer2mpl\n",
    "from tqdm import tqdm\n",
    "\n",
    "import lib.dist as dist\n",
    "import lib.utils as utils\n",
    "import lib.utils_plot as utils_plot\n",
    "import lib.datasets as dset\n",
    "from lib.flows import FactorialNormalizingFlow\n",
    "\n",
    "from importlib import reload\n",
    "\n",
    "# from metric_helpers.loader import load_model_and_dataset\n",
    "\n",
    "from plot_latent_vs_true import plot_vs_gt_shapes, plot_vs_gt_faces, plot_vs_gt_mnist # noqa: F401\n",
    "from lib.model import *\n",
    "from metric_helpers.elbo_decomposition import *\n",
    "from metric_helpers.mi_metric import compute_metric_shapes, compute_metric_faces, compute_metric_mnist\n",
    "from metric_helpers.disentanglement_metrics import mutual_info_metric_mnist\n",
    "\n",
    "\n",
    "import metric_helpers\n",
    "reload(metric_helpers.elbo_decomposition)\n",
    "reload(metric_helpers.disentanglement_metrics)\n",
    "reload(utils)\n",
    "reload(utils_plot)\n",
    "reload(dset)\n",
    "# reload(model)\n",
    "\n"
   ]
  },
  {
   "cell_type": "markdown",
   "metadata": {
    "id": "mqJa2q8MqrSc"
   },
   "source": [
    "### Define model\n",
    "\n",
    "\n"
   ]
  },
  {
   "cell_type": "code",
   "execution_count": null,
   "metadata": {
    "id": "vXjq9R6fqTYZ"
   },
   "outputs": [],
   "source": []
  },
  {
   "cell_type": "markdown",
   "metadata": {
    "id": "0Yja0UDFrXl-"
   },
   "source": [
    "### Utility functions"
   ]
  },
  {
   "cell_type": "code",
   "execution_count": null,
   "metadata": {
    "id": "WL9SFg46rWbY"
   },
   "outputs": [],
   "source": []
  },
  {
   "cell_type": "markdown",
   "metadata": {
    "id": "uxUe1lvPAduc"
   },
   "source": [
    "#### Plotting utility function"
   ]
  },
  {
   "cell_type": "code",
   "execution_count": null,
   "metadata": {
    "id": "jpk7AEwSs_4v"
   },
   "outputs": [],
   "source": [
    "\n",
    "\n",
    "\n"
   ]
  },
  {
   "cell_type": "markdown",
   "metadata": {
    "id": "0qSlhuwFAh-p"
   },
   "source": [
    "#### Disentanglement utility function"
   ]
  },
  {
   "cell_type": "code",
   "execution_count": null,
   "metadata": {
    "id": "2V9VykUmtKLg"
   },
   "outputs": [],
   "source": []
  },
  {
   "cell_type": "markdown",
   "metadata": {
    "id": "23W5HNSrtJw7"
   },
   "source": [
    "### Run training and testing"
   ]
  },
  {
   "cell_type": "code",
   "execution_count": 11,
   "metadata": {
    "id": "7sKiZU1xsEIi"
   },
   "outputs": [],
   "source": [
    "win_samples = None\n",
    "win_test_reco = None\n",
    "win_latent_walk = None\n",
    "win_train_elbo = None\n",
    "\n",
    "\n",
    "\n",
    "class Object(object):\n",
    "    pass\n",
    "\n",
    "args = Object()\n",
    "args.dataset = 'mnist'\n",
    "args.dist = 'normal'\n",
    "args.num_epochs = 10\n",
    "args.batch_size = 32\n",
    "args.learning_rate = 1e-3\n",
    "args.latent_dim = 10\n",
    "args.beta = 10\n",
    "args.tcvae = True\n",
    "args.exclude_mutinfo = False\n",
    "args.beta_anneal = False\n",
    "args.lambda_anneal = False\n",
    "args.mss = False\n",
    "args.conv = True\n",
    "args.gpu = 0\n",
    "args.visdom = False\n",
    "args.save = 'mnist_10_10'\n",
    "args.log_freq = 200\n",
    "\n",
    "\n",
    "\n",
    "\n"
   ]
  },
  {
   "cell_type": "code",
   "execution_count": null,
   "metadata": {
    "id": "FlMNX5zDTxvn"
   },
   "outputs": [],
   "source": [
    "import wandb\n",
    "wandb.login()"
   ]
  },
  {
   "cell_type": "code",
   "execution_count": null,
   "metadata": {},
   "outputs": [],
   "source": [
    "wandb.init(project=\"my-awesome-project\")"
   ]
  },
  {
   "cell_type": "code",
   "execution_count": null,
   "metadata": {
    "id": "mcVFVFEwp-z4"
   },
   "outputs": [],
   "source": [
    "# torch.cuda.set_device(args.gpu)\n",
    "use_cuda = False\n",
    "# data loader\n",
    "train_loader = utils.setup_data_loaders(args, use_cuda=False)\n",
    "\n",
    "\n",
    "\n",
    "# setup the VAE\n",
    "if args.dist == 'normal':\n",
    "    prior_dist = dist.Normal()\n",
    "    q_dist = dist.Normal()\n",
    "elif args.dist == 'laplace':\n",
    "    prior_dist = dist.Laplace()\n",
    "    q_dist = dist.Laplace()\n",
    "elif args.dist == 'flow':\n",
    "    prior_dist = FactorialNormalizingFlow(dim=args.latent_dim, nsteps=32)\n",
    "    q_dist = dist.Normal()\n",
    "\n",
    "vae = VAE(z_dim=args.latent_dim, use_cuda=use_cuda, prior_dist=prior_dist, q_dist=q_dist, image_dim = 28,\n",
    "    include_mutinfo=not args.exclude_mutinfo, tcvae=args.tcvae, conv=args.conv, mss=args.mss)\n",
    "\n",
    "# setup the optimizer\n",
    "optimizer = optim.Adam(vae.parameters(), lr=args.learning_rate)\n",
    "\n",
    "# setup visdom for visualization\n",
    "# if args.visdom:\n",
    "# vis = visdom.Visdom(env=args.save, port=4500)\n",
    "\n",
    "train_elbo = []\n",
    "\n",
    "# training loop\n",
    "dataset_size = len(train_loader.dataset)\n",
    "num_iterations = len(train_loader) * args.num_epochs\n",
    "iteration = 0\n",
    "# initialize loss accumulator\n",
    "elbo_running_mean = utils.RunningAverageMeter()\n",
    "while iteration < num_iterations:\n",
    "    for i, x in enumerate(train_loader):\n",
    "        iteration += 1\n",
    "        print(iteration)\n",
    "        batch_time = time.time()\n",
    "        vae.train()\n",
    "        utils.anneal_kl(args, vae, iteration)\n",
    "        optimizer.zero_grad()\n",
    "        # transfer to GPU\n",
    "        x = x[0]\n",
    "        # print(type(x))\n",
    "        # print(x)\n",
    "        # print(len(x), len(x[0]), len(x[0][0]), len(x[0][0][0]))\n",
    "        if use_cuda:\n",
    "            x = x.cuda()\n",
    "        # wrap the mini-batch in a PyTorch Variable\n",
    "        x = Variable(x)\n",
    "        # do ELBO gradient and accumulate loss\n",
    "        obj, elbo = vae.elbo(x, dataset_size, 28)\n",
    "#         print('elbo', elbo)\n",
    "        if utils.isnan(obj).any():\n",
    "            raise ValueError('NaN spotted in objective.')\n",
    "        obj.mean().mul(-1).backward()\n",
    "        elbo_running_mean.update(torch.mean(elbo.mean()))\n",
    "        optimizer.step()\n",
    "        \n",
    "        wandb.log({'elbo_rm': elbo_running_mean.avg, 'iteration': iteration, 'obj': obj.mean().item()})\n",
    "\n",
    "\n",
    "        # report training diagnostics\n",
    "        if iteration % args.log_freq == 0:\n",
    "            train_elbo.append(elbo_running_mean.avg)\n",
    "            print('[iteration %03d] time: %.2f \\tbeta %.2f \\tlambda %.2f training ELBO: %.4f (%.4f)' % (\n",
    "                iteration, time.time() - batch_time, vae.beta, vae.lamb,\n",
    "                elbo_running_mean.val, elbo_running_mean.avg))\n",
    "\n",
    "            vae.eval()\n",
    "\n",
    "            # plot training and test ELBOs\n",
    "#             if args.visdom:\n",
    "            utils_plot.display_samples(vae, x, vis, 28)\n",
    "            utils_plot.plot_elbo(train_elbo, vis)\n",
    "\n",
    "            utils.save_checkpoint({\n",
    "                'state_dict': vae.state_dict(),\n",
    "                'args': args}, args.save, 0)\n",
    "            eval('plot_vs_gt_' + args.dataset)(vae, train_loader.dataset,\n",
    "                                               os.path.join(args.save, 'gt_vs_latent_{:05d}.png'.format(iteration)),\n",
    "                                               use_cuda=False)\n",
    "\n"
   ]
  },
  {
   "cell_type": "markdown",
   "metadata": {
    "id": "5NR4clmvAnRg"
   },
   "source": [
    "#### EValuation for all metrics"
   ]
  },
  {
   "cell_type": "code",
   "execution_count": null,
   "metadata": {
    "collapsed": true,
    "id": "-7A9fsGop8Xi"
   },
   "outputs": [],
   "source": [
    "load_previous_chkpt = True\n",
    "if load_previous_chkpt == True:\n",
    "    epoch_filename = 0\n",
    "    args.checkpt = os.path.join(args.save, 'checkpt-%04d.pth' % epoch_filename)\n",
    "    use_cuda = False\n",
    "    vae, dataset_loader = dset.load_model_and_dataset(args.checkpt, use_cuda)\n",
    "\n",
    "else:\n",
    "    vae.eval()\n",
    "    utils.save_checkpoint({\n",
    "        'state_dict': vae.state_dict(),\n",
    "        'args': args}, args.save, 0)\n",
    "    dataset_loader = DataLoader(train_loader.dataset, batch_size=1000, num_workers=1, shuffle=False)\n",
    "\n",
    "logpx, dependence, information, dimwise_kl, analytical_cond_kl, marginal_entropies, joint_entropy = \\\n",
    "elbo_decomposition(vae, dataset_loader, use_cuda)\n",
    "\n",
    "\n",
    "\n",
    "# logpx, dependence, information, dimwise_kl, analytical_cond_kl, marginal_entropies, joint_entropy = \\\n",
    "#     elbo_decomposition(vae, dataset_loader)\n",
    "torch.save({\n",
    "    'logpx': logpx,\n",
    "    'dependence': dependence,\n",
    "    'information': information,\n",
    "    'dimwise_kl': dimwise_kl,\n",
    "    'analytical_cond_kl': analytical_cond_kl,\n",
    "    'marginal_entropies': marginal_entropies,\n",
    "    'joint_entropy': joint_entropy\n",
    "}, os.path.join(args.save, 'elbo_decomposition.pth'))\n",
    "eval('plot_vs_gt_' + args.dataset)(vae, dataset_loader.dataset, os.path.join(args.save, 'gt_vs_latent.png'))\n"
   ]
  },
  {
   "cell_type": "code",
   "execution_count": null,
   "metadata": {},
   "outputs": [],
   "source": [
    "elbo_deco = torch.load(os.path.join(args.save, 'elbo_decomposition.pth'))\n",
    "elbo_deco"
   ]
  },
  {
   "cell_type": "code",
   "execution_count": null,
   "metadata": {},
   "outputs": [],
   "source": []
  },
  {
   "cell_type": "markdown",
   "metadata": {
    "id": "dm4eZaMqBAGO"
   },
   "source": [
    "#### MiG Metrics"
   ]
  },
  {
   "cell_type": "code",
   "execution_count": null,
   "metadata": {
    "collapsed": true,
    "id": "6fYWCf4zsSHv"
   },
   "outputs": [],
   "source": [
    "# vae, dataset, cpargs = load_model_and_dataset(args.checkpt)\n",
    "\n",
    "import numpy as np\n",
    "metric, marginal_entropies, cond_entropies = mutual_info_metric_mnist(vae, \n",
    "                                                                      dataset_loader.dataset,\n",
    "                                                                      10000, False)\n",
    "\n",
    "torch.save({\n",
    "    'metric': metric,\n",
    "    'marginal_entropies': marginal_entropies,\n",
    "    'cond_entropies': cond_entropies,\n",
    "}, os.path.join(args.save, 'disentanglement_metric.pth'))\n",
    "print('MIG: {:.2f}'.format(metric))"
   ]
  },
  {
   "cell_type": "code",
   "execution_count": null,
   "metadata": {},
   "outputs": [],
   "source": [
    "tt = torch.zeros(10)\n",
    "print(tt.shape)\n",
    "yy = tt[None]\n",
    "print(yy.shape)"
   ]
  }
 ],
 "metadata": {
  "accelerator": "GPU",
  "colab": {
   "provenance": []
  },
  "gpuClass": "standard",
  "kernelspec": {
   "display_name": "Python 3 (ipykernel)",
   "language": "python",
   "name": "python3"
  },
  "language_info": {
   "codemirror_mode": {
    "name": "ipython",
    "version": 3
   },
   "file_extension": ".py",
   "mimetype": "text/x-python",
   "name": "python",
   "nbconvert_exporter": "python",
   "pygments_lexer": "ipython3",
   "version": "3.9.6"
  }
 },
 "nbformat": 4,
 "nbformat_minor": 1
}
